{
 "cells": [
  {
   "cell_type": "code",
   "execution_count": null,
   "id": "90c338fe-6126-40c4-b755-e85fc5edb5d5",
   "metadata": {},
   "outputs": [],
   "source": [
    "Q1. What are Eigenvalues and Eigenvectors? How are they related to the Eigen-Decomposition approach?\n",
    "Explain with an example."
   ]
  },
  {
   "cell_type": "code",
   "execution_count": null,
   "id": "98f7b9c0-8a26-4db7-8b1a-3a38ea8fc5df",
   "metadata": {},
   "outputs": [],
   "source": [
    "Ans = Eigenvalues are the special set of scalar values that is associated with the set of linear equations most\n",
    "probably in the matrix equations. The eigenvectors are also termed as characteristic roots.\n",
    "It is a non-zero vector that can be changed at most by its scalar factor after the application of linear transformations."
   ]
  },
  {
   "cell_type": "code",
   "execution_count": null,
   "id": "6ac81ebf-7a77-4d7a-b26f-b7a92300043e",
   "metadata": {},
   "outputs": [],
   "source": []
  },
  {
   "cell_type": "code",
   "execution_count": null,
   "id": "08b21758-3175-4fc7-a8eb-bb88907b38f0",
   "metadata": {},
   "outputs": [],
   "source": [
    "Q2. What is eigen decomposition and what is its significance in linear algebra?"
   ]
  },
  {
   "cell_type": "code",
   "execution_count": null,
   "id": "15614c11-c2b9-4a81-a160-ed6ae63621fd",
   "metadata": {},
   "outputs": [],
   "source": [
    "Ans = In linear algebra, eigendecomposition is the factorization of a matrix into a canonical form,\n",
    "whereby the matrix is represented in terms of its eigenvalues and eigenvectors.\n",
    "Only diagonalizable matrices can be factorized in this way."
   ]
  },
  {
   "cell_type": "code",
   "execution_count": null,
   "id": "b0cfe408-766a-4e08-a9f3-3d325e0e0d3a",
   "metadata": {},
   "outputs": [],
   "source": []
  },
  {
   "cell_type": "code",
   "execution_count": null,
   "id": "8a655db6-d8ff-4fb6-89d0-5b77ca12e613",
   "metadata": {},
   "outputs": [],
   "source": [
    "Q3. What are the conditions that must be satisfied for a square matrix to be diagonalizable using the\n",
    "Eigen-Decomposition approach? Provide a brief proof to support your answer."
   ]
  },
  {
   "cell_type": "code",
   "execution_count": null,
   "id": "fe70024c-2053-443a-9d32-8eda40416444",
   "metadata": {},
   "outputs": [],
   "source": [
    "Ans = Hence, a matrix is diagonalizable if and only if its nilpotent part is zero.\n",
    "Put in another way, a matrix is diagonalizable if each block in its Jordan\n",
    "form has no nilpotent part; i.e., one-by-one matrix."
   ]
  },
  {
   "cell_type": "code",
   "execution_count": null,
   "id": "ab02182d-cc7e-493a-9b31-b32615026a9d",
   "metadata": {},
   "outputs": [],
   "source": []
  },
  {
   "cell_type": "code",
   "execution_count": null,
   "id": "9d08ca79-019a-4b42-9344-a6e1f06a0d9c",
   "metadata": {},
   "outputs": [],
   "source": [
    "Q4. What is the significance of the spectral theorem in the context of the Eigen-Decomposition approach?\n",
    "How is it related to the diagonalizability of a matrix? Explain with an example."
   ]
  },
  {
   "cell_type": "code",
   "execution_count": null,
   "id": "3c60c266-9e8b-4de3-9670-c3d6458af2c4",
   "metadata": {},
   "outputs": [],
   "source": [
    "Ans = The spectral theorem provides a sufficient criterion for the existence of a particular canonical form.\n",
    "The spectral theorem states that if M equals the transpose of M,\n",
    "then M is diagonalizable: there exists an invertible matrix C such that C − 1 M C C^{-1} MC C−1MC is a diagonal matrix."
   ]
  },
  {
   "cell_type": "code",
   "execution_count": null,
   "id": "1173a6e3-4d10-4fde-a6d2-9165ff9432a7",
   "metadata": {},
   "outputs": [],
   "source": []
  },
  {
   "cell_type": "code",
   "execution_count": null,
   "id": "c7337902-e451-4a66-ad18-d9a6162b8f73",
   "metadata": {},
   "outputs": [],
   "source": [
    "Q5. How do you find the eigenvalues of a matrix and what do they represent?"
   ]
  },
  {
   "cell_type": "code",
   "execution_count": null,
   "id": "efd19a5e-e8e4-44df-a1eb-d766bc36a80c",
   "metadata": {},
   "outputs": [],
   "source": [
    "Ans = How can We Find the Eigenvalues of Matrix? To find the eigenvalues of a square matrix A:\n",
    "    Find its characteristic equation using |A - λI| = 0,\n",
    "    where I is the identity matrix of same order A. Solve it for λ and the solutions would give the eigenvalues."
   ]
  },
  {
   "cell_type": "code",
   "execution_count": null,
   "id": "8f465567-dbe8-4da5-9bee-19a704be4ac2",
   "metadata": {},
   "outputs": [],
   "source": []
  },
  {
   "cell_type": "code",
   "execution_count": null,
   "id": "e2fcc54b-8e8a-4c23-8538-eac15dbb299d",
   "metadata": {},
   "outputs": [],
   "source": [
    "Q6. What are eigenvectors and how are they related to eigenvalues?"
   ]
  },
  {
   "cell_type": "code",
   "execution_count": null,
   "id": "b52e80a2-3d71-459f-9496-00828f7f3275",
   "metadata": {},
   "outputs": [],
   "source": [
    "Ans = In Mathematics, an eigenvector corresponds to the real non zero eigenvalues which point \n",
    "in the direction stretched by the transformation whereas eigenvalue is considered as a\n",
    "factor by which it is stretched. In case, if the eigenvalue is negative, \n",
    "the direction of the transformation is negative."
   ]
  },
  {
   "cell_type": "code",
   "execution_count": null,
   "id": "08e9466b-e3df-427d-b738-1127dce83884",
   "metadata": {},
   "outputs": [],
   "source": []
  },
  {
   "cell_type": "code",
   "execution_count": null,
   "id": "5f87f6a5-0847-42c3-9e4b-7235bdf23e11",
   "metadata": {},
   "outputs": [],
   "source": [
    "Q7. Can you explain the geometric interpretation of eigenvectors and eigenvalues?"
   ]
  },
  {
   "cell_type": "code",
   "execution_count": null,
   "id": "03610354-2a35-45ab-a6a3-227c788d647b",
   "metadata": {},
   "outputs": [],
   "source": [
    "Ans = Geometrically, an eigenvector, corresponding to a real nonzero eigenvalue, points in a \n",
    "direction in which it is stretched by the transformation and the eigenvalue is the factor by which it is stretched.\n",
    "If the eigenvalue is negative, the direction is reversed."
   ]
  },
  {
   "cell_type": "code",
   "execution_count": null,
   "id": "8f027b90-29d4-446f-b1b1-7a2fa687f4bf",
   "metadata": {},
   "outputs": [],
   "source": []
  },
  {
   "cell_type": "code",
   "execution_count": null,
   "id": "2968eb0e-526e-4f53-af00-6d4bcb8ee2ef",
   "metadata": {},
   "outputs": [],
   "source": [
    "Q8. What are some real-world applications of eigen decomposition?"
   ]
  },
  {
   "cell_type": "code",
   "execution_count": null,
   "id": "ae36478a-65f7-4c2b-a353-715be36e39f7",
   "metadata": {},
   "outputs": [],
   "source": [
    "Ans = It is used in car design especially car stereo system and also in decoupling three phase system.\n",
    "Eigendecomposition is particularly useful for analysing the structure of the data matrix in terms of the \n",
    "eigenvalues and eigenvectors."
   ]
  },
  {
   "cell_type": "code",
   "execution_count": null,
   "id": "91081968-2e03-43a8-b552-62e9a8a2e807",
   "metadata": {},
   "outputs": [],
   "source": []
  },
  {
   "cell_type": "code",
   "execution_count": null,
   "id": "4b594f93-a9cd-401b-8abc-bf4f1b1dd2a2",
   "metadata": {},
   "outputs": [],
   "source": [
    "Q9. Can a matrix have more than one set of eigenvectors and eigenvalues?"
   ]
  },
  {
   "cell_type": "code",
   "execution_count": null,
   "id": "26fa25f8-3ed6-4dff-88ab-c1237c6c67d1",
   "metadata": {},
   "outputs": [],
   "source": [
    "Ans = Since a nonzero subspace is infinite, every eigenvalue has infinitely many eigenvectors. \n",
    "On the other hand, there can be at most n linearly independent eigenvectors of an n × n matrix,\n",
    "since R n has dimension n ."
   ]
  },
  {
   "cell_type": "code",
   "execution_count": null,
   "id": "bf6cd7d5-0cc4-4cc5-bf19-9d4254045609",
   "metadata": {},
   "outputs": [],
   "source": []
  },
  {
   "cell_type": "code",
   "execution_count": null,
   "id": "bb3cf27b-8aec-446e-a737-666d3d924889",
   "metadata": {},
   "outputs": [],
   "source": [
    "Q10. In what ways is the Eigen-Decomposition approach useful in data analysis and machine learning?\n",
    "Discuss at least three specific applications or techniques that rely on Eigen-Decomposition."
   ]
  },
  {
   "cell_type": "code",
   "execution_count": null,
   "id": "f37316f0-57d4-4d82-b482-4a0ad59060e4",
   "metadata": {},
   "outputs": [],
   "source": [
    "Ans = Eigendecomposition is used to decompose a matrix into eigenvectors and\n",
    "eigenvalues which are eventually applied in methods used in machine learning,\n",
    "such as in the Principal Component Analysis method or PCA."
   ]
  }
 ],
 "metadata": {
  "kernelspec": {
   "display_name": "Python 3 (ipykernel)",
   "language": "python",
   "name": "python3"
  },
  "language_info": {
   "codemirror_mode": {
    "name": "ipython",
    "version": 3
   },
   "file_extension": ".py",
   "mimetype": "text/x-python",
   "name": "python",
   "nbconvert_exporter": "python",
   "pygments_lexer": "ipython3",
   "version": "3.10.8"
  }
 },
 "nbformat": 4,
 "nbformat_minor": 5
}
